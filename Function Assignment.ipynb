{
 "cells": [
  {
   "cell_type": "code",
   "execution_count": null,
   "id": "6d937ff8-d455-4b3e-ac72-d5d3d4cb108e",
   "metadata": {},
   "outputs": [],
   "source": [
    "# Create a class and function, and list out the items in the list SubfieldsInAI.Subfields()"
   ]
  },
  {
   "cell_type": "code",
   "execution_count": 93,
   "id": "be92ca28-39e1-4637-b40a-32b12826bceb",
   "metadata": {},
   "outputs": [
    {
     "name": "stdout",
     "output_type": "stream",
     "text": [
      "Sub-fields in AI are:\n",
      "Machine Learning\n",
      "Neural Networks\n",
      "Vision\n",
      "Robotics\n",
      "Speech Processing\n",
      "Natural Language Processing\n"
     ]
    }
   ],
   "source": [
    "def SubfieldsInAI(AI):\n",
    "    for x in AI:\n",
    "        print(x)\n",
    "Subfields=[\"Machine Learning\",\"Neural Networks\",\"Vision\",\"Robotics\",\"Speech Processing\",\"Natural Language Processing\"]\n",
    "print(\"Sub-fields in AI are:\")\n",
    "SubfieldsInAI(Subfields)\n",
    "    "
   ]
  },
  {
   "cell_type": "code",
   "execution_count": 95,
   "id": "726daa1c-30dd-4282-991e-f4c48194017c",
   "metadata": {},
   "outputs": [],
   "source": [
    "# Create a function that checks whether the given number is Odd or Even"
   ]
  },
  {
   "cell_type": "code",
   "execution_count": 111,
   "id": "325526d2-e41b-45f8-8e6d-a4d21f814e3d",
   "metadata": {},
   "outputs": [
    {
     "name": "stdin",
     "output_type": "stream",
     "text": [
      "Enter the number: 52452\n"
     ]
    },
    {
     "name": "stdout",
     "output_type": "stream",
     "text": [
      "Even number\n"
     ]
    },
    {
     "data": {
      "text/plain": [
       "'Even Number'"
      ]
     },
     "execution_count": 111,
     "metadata": {},
     "output_type": "execute_result"
    }
   ],
   "source": [
    "def odd_even():\n",
    "    num=int(input(\"Enter the number:\"))\n",
    "    if((num%2)==1):\n",
    "        print(\"Odd number\")\n",
    "        msg=\"Odd Number\"\n",
    "    else:\n",
    "        print(\"Even number\")\n",
    "        msg=\"Even Number\"\n",
    "    return msg\n",
    "odd_even()"
   ]
  },
  {
   "cell_type": "code",
   "execution_count": 115,
   "id": "4494c98e-bdc8-43a7-a1c2-8847a9dc9b38",
   "metadata": {},
   "outputs": [],
   "source": [
    "# Create a function that tells eligibility of marriage for male and female according to their age limit like 21 for male and 18 for female"
   ]
  },
  {
   "cell_type": "code",
   "execution_count": 7,
   "id": "76712835-0ddd-4e43-99e7-15989664f008",
   "metadata": {},
   "outputs": [
    {
     "name": "stdin",
     "output_type": "stream",
     "text": [
      "Your Gender: Male\n",
      "Your age: 20\n"
     ]
    },
    {
     "name": "stdout",
     "output_type": "stream",
     "text": [
      "Not Eligible\n"
     ]
    },
    {
     "data": {
      "text/plain": [
       "'Not Eligible'"
      ]
     },
     "execution_count": 7,
     "metadata": {},
     "output_type": "execute_result"
    }
   ],
   "source": [
    "def mrg_eligibility():\n",
    "    gender=(input(\"Your Gender:\"))\n",
    "    age=int(input(\"Your age:\"))\n",
    "    if(gender=='Male' and age>=21):\n",
    "        print(\"Eligible\")\n",
    "        msg=\"Eligible\"\n",
    "    elif(gender=='Female' and age>=18):\n",
    "        print(\"Eligible\")\n",
    "        msg=\"Eligible\"\n",
    "    else:\n",
    "        print(\"Not Eligible\")\n",
    "        msg=\"Not Eligible\"\n",
    "    return msg\n",
    "mrg_eligibility()"
   ]
  },
  {
   "cell_type": "code",
   "execution_count": null,
   "id": "6ce0dd05-113f-44e6-bd04-7098ab5d814f",
   "metadata": {},
   "outputs": [],
   "source": [
    "# calculate the percentage of your 10th mark"
   ]
  },
  {
   "cell_type": "code",
   "execution_count": 43,
   "id": "4568989c-7184-4eb9-bbe8-e5fa5c925cf7",
   "metadata": {},
   "outputs": [
    {
     "name": "stdin",
     "output_type": "stream",
     "text": [
      "Subject1: 98\n",
      "Subject2: 87\n",
      "Subject3: 95\n",
      "Subject4: 95\n",
      "Subject5: 93\n"
     ]
    },
    {
     "name": "stdout",
     "output_type": "stream",
     "text": [
      "Total: 468\n",
      "Percentage: 93.60000000000001\n"
     ]
    }
   ],
   "source": [
    "def cal_percentage():\n",
    "    Marks1=int(input(\"Subject1:\"))\n",
    "    Marks2=int(input(\"Subject2:\"))\n",
    "    Marks3=int(input(\"Subject3:\"))\n",
    "    Marks4=int(input(\"Subject4:\"))\n",
    "    Marks5=int(input(\"Subject5:\"))\n",
    "    total=Marks1+Marks2+Marks3+Marks4+Marks5\n",
    "    print(\"Total:\",total)\n",
    "    percentage=(total/500*100)\n",
    "    print(\"Percentage:\",percentage)\n",
    "cal_percentage()"
   ]
  },
  {
   "cell_type": "code",
   "execution_count": 45,
   "id": "bbab43c0-9d4c-4741-9ae5-5ca2bdcc8565",
   "metadata": {},
   "outputs": [],
   "source": [
    "#print area and perimeter of triangle using class and functions"
   ]
  },
  {
   "cell_type": "code",
   "execution_count": 83,
   "id": "dfa97e09-615b-4751-a758-2592a82ea1d5",
   "metadata": {},
   "outputs": [
    {
     "name": "stdin",
     "output_type": "stream",
     "text": [
      "Height: 32\n",
      "Breath: 34\n"
     ]
    },
    {
     "name": "stdout",
     "output_type": "stream",
     "text": [
      "Area of Triangle: 544.0\n"
     ]
    },
    {
     "name": "stdin",
     "output_type": "stream",
     "text": [
      "Height1: 2\n",
      "Height2: 4\n",
      "Breath1: 4\n"
     ]
    },
    {
     "name": "stdout",
     "output_type": "stream",
     "text": [
      "Perimeter of Triangle: 10\n"
     ]
    }
   ],
   "source": [
    "def triangle():\n",
    "    height=int(input(\"Height:\"))\n",
    "    breath=int(input(\"Breath:\"))\n",
    "    Area=(height*breath)/2\n",
    "    print(\"Area of Triangle:\",Area)\n",
    "    height1=int(input(\"Height1:\"))\n",
    "    height2=int(input(\"Height2:\"))\n",
    "    breath1=int(input(\"Breath1:\"))\n",
    "    perimeter=height1+height2+breath1\n",
    "    print(\"Perimeter of Triangle:\",perimeter)   \n",
    "triangle()"
   ]
  }
 ],
 "metadata": {
  "kernelspec": {
   "display_name": "Python [conda env:base] *",
   "language": "python",
   "name": "conda-base-py"
  },
  "language_info": {
   "codemirror_mode": {
    "name": "ipython",
    "version": 3
   },
   "file_extension": ".py",
   "mimetype": "text/x-python",
   "name": "python",
   "nbconvert_exporter": "python",
   "pygments_lexer": "ipython3",
   "version": "3.12.7"
  }
 },
 "nbformat": 4,
 "nbformat_minor": 5
}
