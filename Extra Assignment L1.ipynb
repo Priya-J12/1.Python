{
 "cells": [
  {
   "cell_type": "code",
   "execution_count": null,
   "id": "01562714-9c14-46e1-8cdf-e3303f90c7a3",
   "metadata": {},
   "outputs": [],
   "source": [
    "#print statement"
   ]
  },
  {
   "cell_type": "code",
   "execution_count": 1,
   "id": "1e4d735e-c723-481e-a7fc-3d6d62eaec9c",
   "metadata": {},
   "outputs": [
    {
     "name": "stdout",
     "output_type": "stream",
     "text": [
      "HOPE AI\n"
     ]
    }
   ],
   "source": [
    "print(\"HOPE AI\")"
   ]
  },
  {
   "cell_type": "code",
   "execution_count": null,
   "id": "346e00eb-5579-4792-9a0d-a2dbc5cd4e26",
   "metadata": {},
   "outputs": [],
   "source": [
    "#buy input"
   ]
  },
  {
   "cell_type": "code",
   "execution_count": 3,
   "id": "fe606484-9439-4a04-a0cc-72a45627d574",
   "metadata": {},
   "outputs": [
    {
     "name": "stdin",
     "output_type": "stream",
     "text": [
      "Enter your institute name: HOPE AI\n"
     ]
    }
   ],
   "source": [
    "name=input(\"Enter your institute name:\")"
   ]
  },
  {
   "cell_type": "code",
   "execution_count": null,
   "id": "c485ec55-0363-4031-b6e3-6e47ac141436",
   "metadata": {},
   "outputs": [],
   "source": [
    "#buy inputs"
   ]
  },
  {
   "cell_type": "code",
   "execution_count": 1,
   "id": "bf58dce7-ddf6-4065-99b2-24d990d4bec2",
   "metadata": {},
   "outputs": [
    {
     "name": "stdin",
     "output_type": "stream",
     "text": [
      "Enter your name: Priya Sharon J\n",
      "Enter your age: 35\n",
      "Enter your school name: Allwin School\n",
      "Enter your degree: B.Tech IT\n"
     ]
    }
   ],
   "source": [
    "name1=input(\"Enter your name:\")\n",
    "name2=input(\"Enter your age:\")\n",
    "name3=input(\"Enter your school name:\")\n",
    "name4=input(\"Enter your degree:\")"
   ]
  },
  {
   "cell_type": "code",
   "execution_count": null,
   "id": "3990e89f-29c2-46f8-a486-b2846b6889ae",
   "metadata": {},
   "outputs": [],
   "source": [
    "#addition"
   ]
  },
  {
   "cell_type": "code",
   "execution_count": 29,
   "id": "4e47a81c-2188-444c-8693-7fd3624ac16e",
   "metadata": {},
   "outputs": [
    {
     "name": "stdout",
     "output_type": "stream",
     "text": [
      "Add=77\n"
     ]
    }
   ],
   "source": [
    "a=43\n",
    "b=34\n",
    "add=a+b\n",
    "print(\"Add=\", end=\"\")\n",
    "print(add)"
   ]
  },
  {
   "cell_type": "code",
   "execution_count": null,
   "id": "ee37b855-5d5b-42af-ba0b-f074dfb1ca26",
   "metadata": {},
   "outputs": [],
   "source": [
    "#subtraction"
   ]
  },
  {
   "cell_type": "code",
   "execution_count": 27,
   "id": "d08aef53-0e44-4db6-891f-121bd235cf94",
   "metadata": {},
   "outputs": [
    {
     "name": "stdout",
     "output_type": "stream",
     "text": [
      "Sub=9\n"
     ]
    }
   ],
   "source": [
    "a=43\n",
    "b=34\n",
    "sub=a-b\n",
    "print(\"Sub=\", end=\"\")\n",
    "print(sub)"
   ]
  },
  {
   "cell_type": "code",
   "execution_count": null,
   "id": "fbaa22a5-5f81-4a8b-8628-d6808f71866d",
   "metadata": {},
   "outputs": [],
   "source": [
    "#multiplication"
   ]
  },
  {
   "cell_type": "code",
   "execution_count": 23,
   "id": "00590853-500c-4f82-a1cf-d14e907e70f8",
   "metadata": {},
   "outputs": [
    {
     "name": "stdout",
     "output_type": "stream",
     "text": [
      "Mul=6111\n"
     ]
    }
   ],
   "source": [
    "a=63\n",
    "b=97\n",
    "mul=a*b\n",
    "print(\"Mul=\", end=\"\")\n",
    "print(mul)"
   ]
  },
  {
   "cell_type": "code",
   "execution_count": null,
   "id": "0fb9ffbd-db29-475a-b8be-b19e311f5507",
   "metadata": {},
   "outputs": [],
   "source": [
    "#division"
   ]
  },
  {
   "cell_type": "code",
   "execution_count": 25,
   "id": "e4a95596-1b69-423a-92dd-385266175c3e",
   "metadata": {},
   "outputs": [
    {
     "name": "stdout",
     "output_type": "stream",
     "text": [
      "float div=2.4516129032258065\n"
     ]
    }
   ],
   "source": [
    "a=76\n",
    "b=31\n",
    "div=a/b\n",
    "print(\"float div=\", end=\"\")\n",
    "print(div)"
   ]
  },
  {
   "cell_type": "code",
   "execution_count": null,
   "id": "2a521785-0b31-4c3d-80e1-d2bf7135cb6b",
   "metadata": {},
   "outputs": [],
   "source": [
    "#floor division"
   ]
  },
  {
   "cell_type": "code",
   "execution_count": 19,
   "id": "b26795ad-02b2-48a0-a949-ed78eb0db303",
   "metadata": {},
   "outputs": [
    {
     "name": "stdout",
     "output_type": "stream",
     "text": [
      "floor=2\n"
     ]
    }
   ],
   "source": [
    "a=76\n",
    "b=31\n",
    "floor=a//b\n",
    "print(\"floor=\", end=\"\")\n",
    "print(floor)"
   ]
  },
  {
   "cell_type": "code",
   "execution_count": null,
   "id": "301e020f-ca92-49a9-a918-d2e70c1da95e",
   "metadata": {},
   "outputs": [],
   "source": [
    "#modulo division"
   ]
  },
  {
   "cell_type": "code",
   "execution_count": 17,
   "id": "b1919f19-b0ec-4431-84b7-3bb4bc305a27",
   "metadata": {},
   "outputs": [
    {
     "name": "stdout",
     "output_type": "stream",
     "text": [
      "mod=14\n"
     ]
    }
   ],
   "source": [
    "a=76\n",
    "b=31\n",
    "mod=a%b\n",
    "print(\"mod=\", end=\"\")\n",
    "print(mod)"
   ]
  },
  {
   "cell_type": "code",
   "execution_count": null,
   "id": "5599eff0-df39-455e-bf8c-66d58a806701",
   "metadata": {},
   "outputs": [],
   "source": [
    "#power"
   ]
  },
  {
   "cell_type": "code",
   "execution_count": 15,
   "id": "6a6f345a-5e5c-4425-9f9b-1fa83687983a",
   "metadata": {},
   "outputs": [
    {
     "name": "stdout",
     "output_type": "stream",
     "text": [
      "power=256\n"
     ]
    }
   ],
   "source": [
    "a=4\n",
    "b=4\n",
    "power=a**b\n",
    "print(\"power=\", end=\"\")\n",
    "print(power)"
   ]
  },
  {
   "cell_type": "code",
   "execution_count": null,
   "id": "929606d4-f74e-4f1f-8bef-52907d06e65c",
   "metadata": {},
   "outputs": [],
   "source": []
  }
 ],
 "metadata": {
  "kernelspec": {
   "display_name": "Python [conda env:base] *",
   "language": "python",
   "name": "conda-base-py"
  },
  "language_info": {
   "codemirror_mode": {
    "name": "ipython",
    "version": 3
   },
   "file_extension": ".py",
   "mimetype": "text/x-python",
   "name": "python",
   "nbconvert_exporter": "python",
   "pygments_lexer": "ipython3",
   "version": "3.12.7"
  }
 },
 "nbformat": 4,
 "nbformat_minor": 5
}
