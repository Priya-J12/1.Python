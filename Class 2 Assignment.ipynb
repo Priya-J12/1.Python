{
 "cells": [
  {
   "cell_type": "code",
   "execution_count": 5,
   "id": "b928bc84-607f-487c-9e7c-e5bbd82c798e",
   "metadata": {},
   "outputs": [],
   "source": [
    "from Multiple_Function import MultipleFunctios"
   ]
  },
  {
   "cell_type": "code",
   "execution_count": 3,
   "id": "531540d7-c7eb-45d4-b692-4fa3d84b308f",
   "metadata": {},
   "outputs": [
    {
     "name": "stdout",
     "output_type": "stream",
     "text": [
      "Sub-fields in AI are:\n",
      "Machine Learning\n",
      "Neural Networks\n",
      "Vision\n",
      "Robotics\n",
      "Speech Processing\n",
      "Natural Language Processing\n"
     ]
    }
   ],
   "source": [
    "MultipleFunctios.SubfieldsInAI()"
   ]
  },
  {
   "cell_type": "code",
   "execution_count": 7,
   "id": "16ec89be-e17f-49b4-a65e-1c589290d366",
   "metadata": {},
   "outputs": [
    {
     "name": "stdin",
     "output_type": "stream",
     "text": [
      "Height: 33\n",
      "Breath: 34\n"
     ]
    },
    {
     "name": "stdout",
     "output_type": "stream",
     "text": [
      "Area of Triangle: 561.0\n"
     ]
    },
    {
     "name": "stdin",
     "output_type": "stream",
     "text": [
      "Height1: 2\n",
      "Height2: 4\n",
      "Breath1: 4\n"
     ]
    },
    {
     "name": "stdout",
     "output_type": "stream",
     "text": [
      "Perimeter of Triangle: 10\n"
     ]
    }
   ],
   "source": [
    "MultipleFunctios.triangle()"
   ]
  },
  {
   "cell_type": "code",
   "execution_count": 9,
   "id": "4ebb1fd1-b604-4a36-a1fd-392b7b2a368d",
   "metadata": {},
   "outputs": [
    {
     "name": "stdin",
     "output_type": "stream",
     "text": [
      "Subject1: 95\n",
      "Subject2: 95\n",
      "Subject3: 98\n",
      "Subject4: 94\n",
      "Subject5: 89\n"
     ]
    },
    {
     "name": "stdout",
     "output_type": "stream",
     "text": [
      "Total: 471\n",
      "Percentage: 94.19999999999999\n"
     ]
    }
   ],
   "source": [
    "MultipleFunctios.cal_percentage()"
   ]
  },
  {
   "cell_type": "code",
   "execution_count": 11,
   "id": "e424ff8c-17e1-4d45-b931-97246c0558c6",
   "metadata": {},
   "outputs": [
    {
     "name": "stdin",
     "output_type": "stream",
     "text": [
      "Your Gender: Male\n",
      "Your age: 25\n"
     ]
    },
    {
     "name": "stdout",
     "output_type": "stream",
     "text": [
      "Eligible\n"
     ]
    },
    {
     "data": {
      "text/plain": [
       "'Eligible'"
      ]
     },
     "execution_count": 11,
     "metadata": {},
     "output_type": "execute_result"
    }
   ],
   "source": [
    "MultipleFunctios.mrg_eligibility()"
   ]
  },
  {
   "cell_type": "code",
   "execution_count": 13,
   "id": "e17ec703-582d-4ce2-8bc0-aed873c02e99",
   "metadata": {},
   "outputs": [
    {
     "name": "stdin",
     "output_type": "stream",
     "text": [
      "Your Gender: Female\n",
      "Your age: 17\n"
     ]
    },
    {
     "name": "stdout",
     "output_type": "stream",
     "text": [
      "Not Eligible\n"
     ]
    },
    {
     "data": {
      "text/plain": [
       "'Not Eligible'"
      ]
     },
     "execution_count": 13,
     "metadata": {},
     "output_type": "execute_result"
    }
   ],
   "source": [
    "MultipleFunctios.mrg_eligibility()"
   ]
  },
  {
   "cell_type": "code",
   "execution_count": 15,
   "id": "da0ffd9a-fb2a-48d5-b2bb-725f40e66730",
   "metadata": {},
   "outputs": [
    {
     "name": "stdin",
     "output_type": "stream",
     "text": [
      "Enter the number: 5462\n"
     ]
    },
    {
     "name": "stdout",
     "output_type": "stream",
     "text": [
      "Even number\n"
     ]
    },
    {
     "data": {
      "text/plain": [
       "'Even Number'"
      ]
     },
     "execution_count": 15,
     "metadata": {},
     "output_type": "execute_result"
    }
   ],
   "source": [
    "MultipleFunctios.odd_even()"
   ]
  },
  {
   "cell_type": "code",
   "execution_count": 17,
   "id": "8c9fb6f7-51d3-4a03-ba57-5970b9769ae6",
   "metadata": {},
   "outputs": [
    {
     "name": "stdin",
     "output_type": "stream",
     "text": [
      "Enter the number: 99\n"
     ]
    },
    {
     "name": "stdout",
     "output_type": "stream",
     "text": [
      "Odd number\n"
     ]
    },
    {
     "data": {
      "text/plain": [
       "'Odd Number'"
      ]
     },
     "execution_count": 17,
     "metadata": {},
     "output_type": "execute_result"
    }
   ],
   "source": [
    "MultipleFunctios.odd_even()"
   ]
  },
  {
   "cell_type": "code",
   "execution_count": null,
   "id": "251d77b7-554b-45c4-96df-03fd6df268e9",
   "metadata": {},
   "outputs": [],
   "source": []
  }
 ],
 "metadata": {
  "kernelspec": {
   "display_name": "Python [conda env:base] *",
   "language": "python",
   "name": "conda-base-py"
  },
  "language_info": {
   "codemirror_mode": {
    "name": "ipython",
    "version": 3
   },
   "file_extension": ".py",
   "mimetype": "text/x-python",
   "name": "python",
   "nbconvert_exporter": "python",
   "pygments_lexer": "ipython3",
   "version": "3.12.7"
  }
 },
 "nbformat": 4,
 "nbformat_minor": 5
}
