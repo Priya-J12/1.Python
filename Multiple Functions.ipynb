{
 "cells": [
  {
   "cell_type": "code",
   "execution_count": 5,
   "id": "5c792458-9f59-4f16-b471-c70fdc64295d",
   "metadata": {},
   "outputs": [
    {
     "name": "stdout",
     "output_type": "stream",
     "text": [
      "Sub-fields in AI are:\n",
      "Machine Learning\n",
      "Neural Networks\n",
      "Vision\n",
      "Robotics\n",
      "Speech Processing\n",
      "Natural Language Processing\n"
     ]
    }
   ],
   "source": [
    "class MultipleFunctios():\n",
    "    def SubfieldsInAI():\n",
    "        Subfields=[\"Machine Learning\",\"Neural Networks\",\"Vision\",\"Robotics\",\"Speech Processing\",\"Natural Language Processing\"]\n",
    "        print(\"Sub-fields in AI are:\") \n",
    "        for x in Subfields:\n",
    "            print(x)\n",
    "    SubfieldsInAI()\n",
    "    \n",
    "    def odd_even():\n",
    "        num=int(input(\"Enter the number:\"))\n",
    "        if((num%2)==1):\n",
    "            print(\"Odd number\")\n",
    "            msg=\"Odd Number\"\n",
    "        else:\n",
    "            print(\"Even number\")\n",
    "            msg=\"Even Number\"\n",
    "        return msg\n",
    "\n",
    "    def mrg_eligibility():\n",
    "        gender=(input(\"Your Gender:\"))\n",
    "        age=int(input(\"Your age:\"))\n",
    "        if(gender=='Male' and age>=21):\n",
    "            print(\"Eligible\")\n",
    "            msg=\"Eligible\"\n",
    "        elif(gender=='Female' and age>=18):\n",
    "            print(\"Eligible\")\n",
    "            msg=\"Eligible\"\n",
    "        else:\n",
    "            print(\"Not Eligible\")\n",
    "            msg=\"Not Eligible\"\n",
    "        return msg\n",
    "\n",
    "    def cal_percentage():\n",
    "        Marks1=int(input(\"Subject1:\"))\n",
    "        Marks2=int(input(\"Subject2:\"))\n",
    "        Marks3=int(input(\"Subject3:\"))\n",
    "        Marks4=int(input(\"Subject4:\"))\n",
    "        Marks5=int(input(\"Subject5:\"))\n",
    "        total=Marks1+Marks2+Marks3+Marks4+Marks5\n",
    "        print(\"Total:\",total)\n",
    "        percentage=(total/500*100)\n",
    "        print(\"Percentage:\",percentage)\n",
    "\n",
    "    def triangle():\n",
    "        height=int(input(\"Height:\"))\n",
    "        breath=int(input(\"Breath:\"))\n",
    "        Area=(height*breath)/2\n",
    "        print(\"Area of Triangle:\",Area)\n",
    "        height1=int(input(\"Height1:\"))\n",
    "        height2=int(input(\"Height2:\"))\n",
    "        breath1=int(input(\"Breath1:\"))\n",
    "        perimeter=height1+height2+breath1\n",
    "        print(\"Perimeter of Triangle:\",perimeter)"
   ]
  },
  {
   "cell_type": "code",
   "execution_count": 3,
   "id": "a1a25aaa-8e5c-492d-bebb-06405cac141f",
   "metadata": {},
   "outputs": [
    {
     "name": "stdin",
     "output_type": "stream",
     "text": [
      "Height: 33\n",
      "Breath: 34\n"
     ]
    },
    {
     "name": "stdout",
     "output_type": "stream",
     "text": [
      "Area of Triangle: 561.0\n"
     ]
    },
    {
     "name": "stdin",
     "output_type": "stream",
     "text": [
      "Height1: 2\n",
      "Height2: 4\n",
      "Breath1: 4\n"
     ]
    },
    {
     "name": "stdout",
     "output_type": "stream",
     "text": [
      "Perimeter of Triangle: 10\n"
     ]
    }
   ],
   "source": [
    "MultipleFunctios.triangle()"
   ]
  },
  {
   "cell_type": "code",
   "execution_count": 5,
   "id": "6f683bf7-b335-4b35-ba6a-f4706a28f623",
   "metadata": {},
   "outputs": [
    {
     "name": "stdin",
     "output_type": "stream",
     "text": [
      "Subject1: 98\n",
      "Subject2: 99\n",
      "Subject3: 96\n",
      "Subject4: 90\n",
      "Subject5: 89\n"
     ]
    },
    {
     "name": "stdout",
     "output_type": "stream",
     "text": [
      "Total: 472\n",
      "Percentage: 94.39999999999999\n"
     ]
    }
   ],
   "source": [
    "MultipleFunctios.cal_percentage()"
   ]
  },
  {
   "cell_type": "code",
   "execution_count": 7,
   "id": "6783b688-2dc9-4a20-9701-52f4f5b3747f",
   "metadata": {},
   "outputs": [
    {
     "name": "stdin",
     "output_type": "stream",
     "text": [
      "Your Gender: Female\n",
      "Your age: 20\n"
     ]
    },
    {
     "name": "stdout",
     "output_type": "stream",
     "text": [
      "Eligible\n"
     ]
    },
    {
     "data": {
      "text/plain": [
       "'Eligible'"
      ]
     },
     "execution_count": 7,
     "metadata": {},
     "output_type": "execute_result"
    }
   ],
   "source": [
    "MultipleFunctios.mrg_eligibility()"
   ]
  },
  {
   "cell_type": "code",
   "execution_count": 11,
   "id": "0e9b4e4d-d36a-453a-9294-5c286a3ada81",
   "metadata": {},
   "outputs": [
    {
     "name": "stdin",
     "output_type": "stream",
     "text": [
      "Enter the number: 56\n"
     ]
    },
    {
     "name": "stdout",
     "output_type": "stream",
     "text": [
      "Even number\n"
     ]
    },
    {
     "data": {
      "text/plain": [
       "'Even Number'"
      ]
     },
     "execution_count": 11,
     "metadata": {},
     "output_type": "execute_result"
    }
   ],
   "source": [
    "MultipleFunctios.odd_even()"
   ]
  },
  {
   "cell_type": "code",
   "execution_count": 13,
   "id": "f4cbe0aa-d627-49cd-af62-48a5f56e776f",
   "metadata": {},
   "outputs": [
    {
     "name": "stdin",
     "output_type": "stream",
     "text": [
      "Enter the number: 99\n"
     ]
    },
    {
     "name": "stdout",
     "output_type": "stream",
     "text": [
      "Odd number\n"
     ]
    },
    {
     "data": {
      "text/plain": [
       "'Odd Number'"
      ]
     },
     "execution_count": 13,
     "metadata": {},
     "output_type": "execute_result"
    }
   ],
   "source": [
    "MultipleFunctios.odd_even()"
   ]
  },
  {
   "cell_type": "code",
   "execution_count": null,
   "id": "23430f9b-6576-4a3f-b4d4-3d4e11a407bb",
   "metadata": {},
   "outputs": [],
   "source": []
  }
 ],
 "metadata": {
  "kernelspec": {
   "display_name": "Python [conda env:base] *",
   "language": "python",
   "name": "conda-base-py"
  },
  "language_info": {
   "codemirror_mode": {
    "name": "ipython",
    "version": 3
   },
   "file_extension": ".py",
   "mimetype": "text/x-python",
   "name": "python",
   "nbconvert_exporter": "python",
   "pygments_lexer": "ipython3",
   "version": "3.12.7"
  }
 },
 "nbformat": 4,
 "nbformat_minor": 5
}
