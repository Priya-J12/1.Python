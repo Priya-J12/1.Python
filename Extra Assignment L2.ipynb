{
 "cells": [
  {
   "cell_type": "code",
   "execution_count": null,
   "id": "d6a3ee1a-2e64-4a4e-ab1d-e86ab048f81e",
   "metadata": {},
   "outputs": [],
   "source": [
    "#print 0-20 by using range"
   ]
  },
  {
   "cell_type": "code",
   "execution_count": 5,
   "id": "9d4944b4-8517-4f44-8b09-67e4608a6516",
   "metadata": {},
   "outputs": [
    {
     "name": "stdout",
     "output_type": "stream",
     "text": [
      "0\n",
      "1\n",
      "2\n",
      "3\n",
      "4\n",
      "5\n",
      "6\n",
      "7\n",
      "8\n",
      "9\n",
      "10\n",
      "11\n",
      "12\n",
      "13\n",
      "14\n",
      "15\n",
      "16\n",
      "17\n",
      "18\n",
      "19\n"
     ]
    }
   ],
   "source": [
    "for num in range(0,20):\n",
    "    print(num)"
   ]
  },
  {
   "cell_type": "code",
   "execution_count": null,
   "id": "749893ba-1fa8-429f-80bb-348f6e400b2d",
   "metadata": {},
   "outputs": [],
   "source": [
    "#print range 10 to 20"
   ]
  },
  {
   "cell_type": "code",
   "execution_count": 17,
   "id": "e170f1bb-8307-4375-9e0d-f38a2c110323",
   "metadata": {},
   "outputs": [
    {
     "name": "stdout",
     "output_type": "stream",
     "text": [
      "10 11 12 13 14 15 16 17 18 19 "
     ]
    }
   ],
   "source": [
    "for x in range(10,20):\n",
    "    print(x, end=\" \")"
   ]
  },
  {
   "cell_type": "code",
   "execution_count": null,
   "id": "da4f820b-1bf9-4d55-a214-db4bc060839d",
   "metadata": {},
   "outputs": [],
   "source": [
    "# Print number of items in the list by using 'len'"
   ]
  },
  {
   "cell_type": "code",
   "execution_count": 25,
   "id": "c570a706-9307-44ae-9fd6-d7cebddd9aac",
   "metadata": {},
   "outputs": [
    {
     "name": "stdout",
     "output_type": "stream",
     "text": [
      "Number of items in the list:7\n"
     ]
    }
   ],
   "source": [
    "i=[10, 20, 14, 55, 43, 87, 76]\n",
    "x=len(i)\n",
    "print(\"Number of items in the list:\", end=\"\")\n",
    "print(x)"
   ]
  },
  {
   "cell_type": "code",
   "execution_count": null,
   "id": "4e468cc9-0f13-465a-b1ed-99b8b0e065cb",
   "metadata": {},
   "outputs": [],
   "source": [
    "#"
   ]
  },
  {
   "cell_type": "code",
   "execution_count": 63,
   "id": "436e4c6d-eff6-4c80-9dc9-bc81dd70721c",
   "metadata": {},
   "outputs": [
    {
     "name": "stdout",
     "output_type": "stream",
     "text": [
      "A\n",
      "R\n",
      "T\n",
      "I\n",
      "F\n",
      "I\n",
      "C\n",
      "I\n",
      "A\n",
      "L\n",
      "I\n",
      "N\n",
      "T\n",
      "E\n",
      "L\n",
      "L\n",
      "I\n",
      "G\n",
      "E\n",
      "N\n",
      "C\n",
      "E\n"
     ]
    }
   ],
   "source": [
    "i=\"ARTIFICIALINTELLIGENCE\"\n",
    "for s in i:\n",
    "    print(s)"
   ]
  },
  {
   "cell_type": "code",
   "execution_count": null,
   "id": "b4f9dd84-9231-48d1-a254-ffd67081c32e",
   "metadata": {},
   "outputs": [],
   "source": [
    "#print"
   ]
  },
  {
   "cell_type": "code",
   "execution_count": 15,
   "id": "c69ed01f-3319-407b-b5fd-b9a68389d24c",
   "metadata": {},
   "outputs": [
    {
     "name": "stdout",
     "output_type": "stream",
     "text": [
      "-Your name-\n",
      "-Your age-\n",
      "-Your profession-\n"
     ]
    }
   ],
   "source": [
    "print(\"-Your name-\\n-Your age-\\n-Your profession-\")"
   ]
  },
  {
   "cell_type": "code",
   "execution_count": null,
   "id": "53dfe6bf-5d60-42be-96c3-ee2510ad785b",
   "metadata": {},
   "outputs": [],
   "source": [
    "#tuples"
   ]
  },
  {
   "cell_type": "code",
   "execution_count": 5,
   "id": "a33c7a28-9867-4604-8589-a01e1576c94f",
   "metadata": {},
   "outputs": [
    {
     "name": "stdout",
     "output_type": "stream",
     "text": [
      "(1, 'Welcome', 2, 'Hope')\n"
     ]
    }
   ],
   "source": [
    "y=(1,'Welcome',2,'Hope')\n",
    "print(y)"
   ]
  },
  {
   "cell_type": "code",
   "execution_count": 31,
   "id": "3445af02-c551-4820-bd3d-0d42c55f19df",
   "metadata": {},
   "outputs": [],
   "source": [
    "#using tuple"
   ]
  },
  {
   "cell_type": "code",
   "execution_count": 47,
   "id": "1daf2466-3f1b-4283-945c-670aa3437efc",
   "metadata": {},
   "outputs": [
    {
     "name": "stdout",
     "output_type": "stream",
     "text": [
      "((0, 1, 2, 3), ('python', 'Hope'))\n"
     ]
    }
   ],
   "source": [
    "a=(0,1,2,3)\n",
    "b=('python','Hope')\n",
    "c=(a,b)\n",
    "print(c)"
   ]
  },
  {
   "cell_type": "code",
   "execution_count": null,
   "id": "32734b9f-6b67-45bd-97b6-78b179e945a2",
   "metadata": {},
   "outputs": [],
   "source": [
    "# print Odd Numbers in the list"
   ]
  },
  {
   "cell_type": "code",
   "execution_count": 47,
   "id": "e98d932f-5980-403f-be53-02fdb1fc9eaf",
   "metadata": {},
   "outputs": [
    {
     "name": "stdout",
     "output_type": "stream",
     "text": [
      "19 is odd\n",
      "25 is odd\n",
      "1 is odd\n"
     ]
    }
   ],
   "source": [
    "nums=(20,10,16,19,25,1,276,188)\n",
    "for o in nums:\n",
    "    if o%2==1:\n",
    "        print(o,  end=\" \")\n",
    "        print(\"is odd\")"
   ]
  },
  {
   "cell_type": "code",
   "execution_count": null,
   "id": "36457dce-c1bd-4966-b8f4-dd631b76434d",
   "metadata": {},
   "outputs": [],
   "source": [
    "# print Even Numbers in the list"
   ]
  },
  {
   "cell_type": "code",
   "execution_count": 39,
   "id": "0621417f-4fda-41f4-b010-246a22790feb",
   "metadata": {},
   "outputs": [
    {
     "name": "stdout",
     "output_type": "stream",
     "text": [
      "20 is even\n",
      "10 is even\n",
      "16 is even\n",
      "276 is even\n",
      "188 is even\n"
     ]
    }
   ],
   "source": [
    "nums2=(20,10,16,19,25,1,276,188)\n",
    "for o in nums2:\n",
    "    if o%2==0:\n",
    "        print(o,  end=\" \")\n",
    "        print(\"is even\")"
   ]
  },
  {
   "cell_type": "code",
   "execution_count": null,
   "id": "112cb165-65b7-4b04-879f-9ddf339593d5",
   "metadata": {},
   "outputs": [],
   "source": []
  }
 ],
 "metadata": {
  "kernelspec": {
   "display_name": "Python [conda env:base] *",
   "language": "python",
   "name": "conda-base-py"
  },
  "language_info": {
   "codemirror_mode": {
    "name": "ipython",
    "version": 3
   },
   "file_extension": ".py",
   "mimetype": "text/x-python",
   "name": "python",
   "nbconvert_exporter": "python",
   "pygments_lexer": "ipython3",
   "version": "3.12.7"
  }
 },
 "nbformat": 4,
 "nbformat_minor": 5
}
